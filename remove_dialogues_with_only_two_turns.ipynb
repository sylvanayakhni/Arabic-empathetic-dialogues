{
  "nbformat": 4,
  "nbformat_minor": 0,
  "metadata": {
    "colab": {
      "provenance": []
    },
    "kernelspec": {
      "name": "python3",
      "display_name": "Python 3"
    },
    "language_info": {
      "name": "python"
    }
  },
  "cells": [
    {
      "cell_type": "code",
      "execution_count": 2,
      "metadata": {
        "id": "zZZdVKxDEvUB"
      },
      "outputs": [],
      "source": [
        "import csv\n",
        "import pandas as pd\n",
        "import numpy as np"
      ]
    },
    {
      "cell_type": "code",
      "source": [
        "with open(\"arabic-empathetic-conversations.csv\",'r',encoding='utf-8') as f:\n",
        "        csv_reader = csv.reader(f)\n",
        "        emotions = []\n",
        "        dialogues = []\n",
        "        emotion = \"\"\n",
        "        dialogue = \"\"\n",
        "        for i , row in enumerate(csv_reader):        \n",
        "            if i==0:\n",
        "                continue\n",
        "            if i==1: \n",
        "              emotion = row[0]\n",
        "              dialogue = row[2] + \"<>\" + row[1]  + \"<>\"\n",
        "              emotions.append(emotion)\n",
        "              dialogues.append(dialogue)               \n",
        "              continue\n",
        "            if row[0] == emotion:\n",
        "                dialogue = row[2] + \"<>\" + row[1] + \"<>\" + dialogue\n",
        "                emotions.append(emotion)\n",
        "                dialogues.append(dialogue) \n",
        "            else:            \n",
        "                emotion = row[0]\n",
        "                dialogue = row[2] + \"<>\" + row[1] + \"<>\"\n",
        "                emotions.append(emotion)\n",
        "                dialogues.append(dialogue) "
      ],
      "metadata": {
        "id": "wt9zh0CaFJtx"
      },
      "execution_count": 4,
      "outputs": []
    },
    {
      "cell_type": "code",
      "source": [
        "print(emotions[3])\n",
        "print(dialogues[3])\n",
        "print(emotions[4])\n",
        "print(dialogues[4])\n"
      ],
      "metadata": {
        "colab": {
          "base_uri": "https://localhost:8080/"
        },
        "id": "ikM24_b0FXpv",
        "outputId": "0c770249-4fe1-4521-99ec-faf5fed1f74e"
      },
      "execution_count": 5,
      "outputs": [
        {
          "output_type": "stream",
          "name": "stdout",
          "text": [
            "afraid\n",
            "أجل؟ أنا حقا لا أرى كيف<>أشعر وكأنني ضرب على جدار فارغ عندما أرى الظلام<>\n",
            "afraid\n",
            "أصطدم في الواقع بجدران فارغة في كثير من الأحيان لكنني أتفوق عليها<>ألا تشعر بذلك .. إنه لأمر عجيب<>أجل؟ أنا حقا لا أرى كيف<>أشعر وكأنني ضرب على جدار فارغ عندما أرى الظلام<>\n"
          ]
        }
      ]
    },
    {
      "cell_type": "code",
      "source": [
        "len(dialogues)"
      ],
      "metadata": {
        "colab": {
          "base_uri": "https://localhost:8080/"
        },
        "id": "eoV6rVI2Fjwo",
        "outputId": "11be5cbe-53b3-4d79-9421-ce37445f6e6d"
      },
      "execution_count": 6,
      "outputs": [
        {
          "output_type": "execute_result",
          "data": {
            "text/plain": [
              "36628"
            ]
          },
          "metadata": {},
          "execution_count": 6
        }
      ]
    },
    {
      "cell_type": "code",
      "source": [
        "len(emotions)"
      ],
      "metadata": {
        "colab": {
          "base_uri": "https://localhost:8080/"
        },
        "id": "3Fe7sGGnFl5g",
        "outputId": "50d49b5e-d2e4-41ab-a315-6a1e79074c04"
      },
      "execution_count": 7,
      "outputs": [
        {
          "output_type": "execute_result",
          "data": {
            "text/plain": [
              "36628"
            ]
          },
          "metadata": {},
          "execution_count": 7
        }
      ]
    },
    {
      "cell_type": "code",
      "source": [
        "SEP = '<>'\n",
        "\n",
        "cleaned_dialogues = []\n",
        "\n",
        "for dialogue in dialogues:\n",
        "    dialogue = dialogue.strip()\n",
        "    turns = dialogue.split(SEP)\n",
        "    if len(turns) > 3:\n",
        "      cleaned_dialogues.append(turns)"
      ],
      "metadata": {
        "id": "8wZcJ6cuw4Wf"
      },
      "execution_count": 10,
      "outputs": []
    },
    {
      "cell_type": "code",
      "source": [
        "len(cleaned_dialogues)"
      ],
      "metadata": {
        "colab": {
          "base_uri": "https://localhost:8080/"
        },
        "id": "1iWwPSj1xCtZ",
        "outputId": "d969a9e7-f43d-49d7-ad63-a1136f7d71c0"
      },
      "execution_count": 11,
      "outputs": [
        {
          "output_type": "execute_result",
          "data": {
            "text/plain": [
              "19439"
            ]
          },
          "metadata": {},
          "execution_count": 11
        }
      ]
    },
    {
      "cell_type": "code",
      "source": [
        "dataset = pd.DataFrame({'emotions': emotions, 'dialogues': dialogues}, columns=['emotions', 'dialogues'])\n",
        "dataset.to_csv(\"arabic_empathetic_dialogues_above_2turns.csv\")"
      ],
      "metadata": {
        "id": "EZTBeMZTHeUl"
      },
      "execution_count": 12,
      "outputs": []
    },
    {
      "cell_type": "code",
      "source": [
        "inputs = tokenizer(batch[\"context\"], padding=\"max_length\", truncation=True, max_length=encoder_max_length)"
      ],
      "metadata": {
        "id": "ilikpSKQyrHR"
      },
      "execution_count": null,
      "outputs": []
    }
  ]
}